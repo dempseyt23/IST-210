{
  "nbformat": 4,
  "nbformat_minor": 0,
  "metadata": {
    "colab": {
      "name": "Project3IST210",
      "provenance": [],
      "collapsed_sections": [],
      "include_colab_link": true
    },
    "kernelspec": {
      "name": "python3",
      "display_name": "Python 3"
    }
  },
  "cells": [
    {
      "cell_type": "markdown",
      "metadata": {
        "id": "view-in-github",
        "colab_type": "text"
      },
      "source": [
        "<a href=\"https://colab.research.google.com/github/dempseyt23/IST-210/blob/master/Project3IST210.ipynb\" target=\"_parent\"><img src=\"https://colab.research.google.com/assets/colab-badge.svg\" alt=\"Open In Colab\"/></a>"
      ]
    },
    {
      "cell_type": "code",
      "metadata": {
        "id": "0-AHtPhFIvZG",
        "colab_type": "code",
        "colab": {}
      },
      "source": [
        "import sqlite3"
      ],
      "execution_count": 0,
      "outputs": []
    },
    {
      "cell_type": "code",
      "metadata": {
        "id": "A9-cz5WLI15D",
        "colab_type": "code",
        "colab": {}
      },
      "source": [
        "connectionToDatabase = sqlite3.connect('PennStateFootball')"
      ],
      "execution_count": 0,
      "outputs": []
    },
    {
      "cell_type": "code",
      "metadata": {
        "id": "Lnp5V7fBI2CB",
        "colab_type": "code",
        "colab": {}
      },
      "source": [
        "cursor = connectionToDatabase.cursor()"
      ],
      "execution_count": 0,
      "outputs": []
    },
    {
      "cell_type": "code",
      "metadata": {
        "id": "eerZkSLEI2Eq",
        "colab_type": "code",
        "colab": {}
      },
      "source": [
        "cursor.execute('''drop table IF EXISTS Stadium''')\n",
        "connectionToDatabase.commit()\n",
        "cursor.execute('''create table IF NOT EXISTS Stadium (StadiumID text PRIMARY KEY, Home text, Closed text, Name text)''')\n",
        "connectionToDatabase.commit()"
      ],
      "execution_count": 0,
      "outputs": []
    },
    {
      "cell_type": "code",
      "metadata": {
        "id": "WnSWNZTMaoCO",
        "colab_type": "code",
        "colab": {}
      },
      "source": [
        "cursor.execute('''insert into Stadium values ('01', 'Penn State', '0', 'Beaver Stadium' );''')\n",
        "connectionToDatabase.commit()\n",
        "cursor.execute('''insert into Stadium values ('02', 'Ohio State', '0', 'Horseshoe Stadium' );''')\n",
        "connectionToDatabase.commit()\n",
        "cursor.execute('''insert into Stadium values ('03', 'University of Alabama', '0', 'Bryant-Denny Stadium' );''')\n",
        "connectionToDatabase.commit()\n",
        "cursor.execute('''insert into Stadium values ('04', 'Michigan State', '0', 'Spartan Stadium' );''')\n",
        "connectionToDatabase.commit()\n",
        "cursor.execute('''insert into Stadium values ('05', 'Iowa State', '0', 'Jack Trice Stadium' );''')\n",
        "connectionToDatabase.commit()\n"
      ],
      "execution_count": 0,
      "outputs": []
    },
    {
      "cell_type": "code",
      "metadata": {
        "id": "aY03LSNybCs-",
        "colab_type": "code",
        "outputId": "68326d85-f7ff-46ab-e35e-62ad77f0dbea",
        "colab": {
          "base_uri": "https://localhost:8080/",
          "height": 102
        }
      },
      "source": [
        "cursor.execute('''select * from Stadium limit 5''')\n",
        "for row in cursor.fetchall():\n",
        "  print (row)"
      ],
      "execution_count": 6,
      "outputs": [
        {
          "output_type": "stream",
          "text": [
            "('01', 'Penn State', '0', 'Beaver Stadium')\n",
            "('02', 'Ohio State', '0', 'Horseshoe Stadium')\n",
            "('03', 'University of Alabama', '0', 'Bryant-Denny Stadium')\n",
            "('04', 'Michigan State', '0', 'Spartan Stadium')\n",
            "('05', 'Iowa State', '0', 'Jack Trice Stadium')\n"
          ],
          "name": "stdout"
        }
      ]
    },
    {
      "cell_type": "code",
      "metadata": {
        "id": "AaYkP2ehxcc3",
        "colab_type": "code",
        "colab": {}
      },
      "source": [
        "cursor.execute('''drop table IF EXISTS Opponent''')\n",
        "connectionToDatabase.commit()\n",
        "cursor.execute('''create table IF NOT EXISTS Opponent (OpponentID text PRIMARY KEY, Team text, Conference text)''')\n",
        "connectionToDatabase.commit()"
      ],
      "execution_count": 0,
      "outputs": []
    },
    {
      "cell_type": "code",
      "metadata": {
        "id": "eEZlFfuzrD8a",
        "colab_type": "code",
        "colab": {}
      },
      "source": [
        "cursor.execute('''insert into Opponent values ('01', 'Rutgers University', 'BIG TEN' );''')\n",
        "connectionToDatabase.commit()\n",
        "cursor.execute('''insert into Opponent values ('02', 'Ohio State', 'BIG TEN' );''')\n",
        "connectionToDatabase.commit()\n",
        "cursor.execute('''insert into Opponent values ('03', 'University of Alabama', 'NCAA South Eastern' );''')\n",
        "connectionToDatabase.commit()\n",
        "cursor.execute('''insert into Opponent values ('04', 'Michigan State', 'BIG TEN' );''')\n",
        "connectionToDatabase.commit()\n",
        "cursor.execute('''insert into Opponent values ('05', 'Iowa State', 'BIG TEN' );''')\n",
        "connectionToDatabase.commit()"
      ],
      "execution_count": 0,
      "outputs": []
    },
    {
      "cell_type": "code",
      "metadata": {
        "id": "euLU6198xYPK",
        "colab_type": "code",
        "outputId": "f60a790d-56f4-4d11-fe3d-4d99f610197a",
        "colab": {
          "base_uri": "https://localhost:8080/",
          "height": 102
        }
      },
      "source": [
        "cursor.execute('''select * from Opponent limit 5''')\n",
        "for row in cursor.fetchall():\n",
        "  print (row)"
      ],
      "execution_count": 9,
      "outputs": [
        {
          "output_type": "stream",
          "text": [
            "('01', 'Rutgers University', 'BIG TEN')\n",
            "('02', 'Ohio State', 'BIG TEN')\n",
            "('03', 'University of Alabama', 'NCAA South Eastern')\n",
            "('04', 'Michigan State', 'BIG TEN')\n",
            "('05', 'Iowa State', 'BIG TEN')\n"
          ],
          "name": "stdout"
        }
      ]
    },
    {
      "cell_type": "code",
      "metadata": {
        "id": "q5hMhh1vx-WQ",
        "colab_type": "code",
        "colab": {}
      },
      "source": [
        "cursor.execute('''drop table IF EXISTS 'Ticket Information' ''')\n",
        "connectionToDatabase.commit()\n",
        "cursor.execute('''create table IF NOT EXISTS 'Ticket Information' (TicketInformationID text PRIMARY KEY, Start integer, Home text, Away text)''')\n",
        "connectionToDatabase.commit()"
      ],
      "execution_count": 0,
      "outputs": []
    },
    {
      "cell_type": "code",
      "metadata": {
        "id": "JV58ukUjyLR3",
        "colab_type": "code",
        "colab": {}
      },
      "source": [
        "cursor.execute('''insert into 'Ticket Information' values ('01', '1900', 'Penn State' , 'Rutgers University' );''')\n",
        "connectionToDatabase.commit()\n",
        "cursor.execute('''insert into 'Ticket Information' values ('02', '1400', 'Penn State' , 'Ohio State' );''')\n",
        "connectionToDatabase.commit()\n",
        "cursor.execute('''insert into 'Ticket Information' values ('03', '1300', 'Penn State' , 'University of Alabama' );''')\n",
        "connectionToDatabase.commit()\n",
        "cursor.execute('''insert into 'Ticket Information' values ('04', '1900', 'Penn State' , 'Michigan State' );''')\n",
        "connectionToDatabase.commit()\n",
        "cursor.execute('''insert into 'Ticket Information' values ('05', '1200', 'Penn State' , 'Iowa State' );''')\n",
        "connectionToDatabase.commit()"
      ],
      "execution_count": 0,
      "outputs": []
    },
    {
      "cell_type": "code",
      "metadata": {
        "id": "kjbpM2DLx-9Y",
        "colab_type": "code",
        "outputId": "0b756cb8-e118-41fd-a987-4db6b870511f",
        "colab": {
          "base_uri": "https://localhost:8080/",
          "height": 102
        }
      },
      "source": [
        "cursor.execute('''select * from 'Ticket Information' limit 5''')\n",
        "for row in cursor.fetchall():\n",
        "  print (row)"
      ],
      "execution_count": 12,
      "outputs": [
        {
          "output_type": "stream",
          "text": [
            "('01', 1900, 'Penn State', 'Rutgers University')\n",
            "('02', 1400, 'Penn State', 'Ohio State')\n",
            "('03', 1300, 'Penn State', 'University of Alabama')\n",
            "('04', 1900, 'Penn State', 'Michigan State')\n",
            "('05', 1200, 'Penn State', 'Iowa State')\n"
          ],
          "name": "stdout"
        }
      ]
    },
    {
      "cell_type": "code",
      "metadata": {
        "id": "nwrDRLnxyDsI",
        "colab_type": "code",
        "colab": {}
      },
      "source": [
        "cursor.execute('''drop table IF EXISTS Purchaser ''')\n",
        "connectionToDatabase.commit()\n",
        "cursor.execute('''create table IF NOT EXISTS Purchaser (PurchaserID text PRIMARY KEY, TicketsID text, 'First Name' text, 'Last Name' text, Quantity integer)''')\n",
        "connectionToDatabase.commit()"
      ],
      "execution_count": 0,
      "outputs": []
    },
    {
      "cell_type": "code",
      "metadata": {
        "id": "g7FLD1kv1Q7x",
        "colab_type": "code",
        "colab": {}
      },
      "source": [
        "cursor.execute('''insert into 'Purchaser' values ('001', '05', 'Trent', 'Dempsey', '2' );''')\n",
        "connectionToDatabase.commit()\n",
        "cursor.execute('''insert into 'Purchaser' values ('002', '04', 'Tyler', 'Wyllie', '5' );''')\n",
        "connectionToDatabase.commit()\n",
        "cursor.execute('''insert into 'Purchaser' values ('003', '03', 'Ryan', 'Johnson', '3' );''')\n",
        "connectionToDatabase.commit()\n",
        "cursor.execute('''insert into 'Purchaser' values ('004', '02', 'Katie', 'Oldziejewski', '7' );''')\n",
        "connectionToDatabase.commit()\n",
        "cursor.execute('''insert into 'Purchaser' values ('005', '01', 'Stevie', 'Principe', '4' );''')\n",
        "connectionToDatabase.commit()"
      ],
      "execution_count": 0,
      "outputs": []
    },
    {
      "cell_type": "code",
      "metadata": {
        "id": "S3Z2zr9VI2Wi",
        "colab_type": "code",
        "outputId": "d3567c6f-de15-4a60-c585-619d6a6da88a",
        "colab": {
          "base_uri": "https://localhost:8080/",
          "height": 102
        }
      },
      "source": [
        "cursor.execute('''select * from Purchaser limit 5''')\n",
        "for row in cursor.fetchall():\n",
        "  print (row)"
      ],
      "execution_count": 19,
      "outputs": [
        {
          "output_type": "stream",
          "text": [
            "('001', '05', 'Trent', 'Dempsey', 2)\n",
            "('002', '04', 'Tyler', 'Wyllie', 5)\n",
            "('003', '03', 'Ryan', 'Johnson', 3)\n",
            "('004', '02', 'Katie', 'Oldziejewski', 7)\n",
            "('005', '01', 'Stevie', 'Principe', 4)\n"
          ],
          "name": "stdout"
        }
      ]
    },
    {
      "cell_type": "code",
      "metadata": {
        "id": "Q6wkkKl1I2ZR",
        "colab_type": "code",
        "outputId": "188be49f-71ba-4481-8d12-9960aa6f0b5e",
        "colab": {
          "base_uri": "https://localhost:8080/",
          "height": 68
        }
      },
      "source": [
        "#What were the top three customers that purchased the most tickets?\n",
        "\n",
        "cursor.execute('''SELECT * FROM Purchaser ORDER BY Quantity DESC LIMIT 3''')\n",
        "for row in cursor.fetchall():\n",
        "  print(row)\n",
        "\n",
        "#This question is important because we will be able to see who is buying a lot of tickets, \n",
        "#and because of the PurchaserID number we will be able to see if this person is buying tickets consistently.  \n",
        "#This will help decide if Penn State Football should contact this person about possibly purchasing season tickets.  \n",
        "#The results did match our expectation as we selected all the information and had the list ordered by the most tickets purchased in descending order with only the top 3 showing."
      ],
      "execution_count": 20,
      "outputs": [
        {
          "output_type": "stream",
          "text": [
            "('004', '02', 'Katie', 'Oldziejewski', 7)\n",
            "('002', '04', 'Tyler', 'Wyllie', 5)\n",
            "('005', '01', 'Stevie', 'Principe', 4)\n"
          ],
          "name": "stdout"
        }
      ]
    },
    {
      "cell_type": "code",
      "metadata": {
        "id": "9YVcwc1GI2cS",
        "colab_type": "code",
        "outputId": "5fa6684c-4b0f-407f-cdfd-b3e5126dc839",
        "colab": {
          "base_uri": "https://localhost:8080/",
          "height": 34
        }
      },
      "source": [
        "#What is the earliest kickoff time?\n",
        "\n",
        "cursor.execute('''SELECT * FROM 'Ticket Information' ORDER BY Start LIMIT 1''')\n",
        "for row in cursor.fetchall():\n",
        "  print(row)\n",
        "\n",
        "#This question is important because it will allow Penn State Football to focus on the attendance for this game, and who we are facing.  \n",
        "#It is important to focus on this game because usually games that are played earlier in the day are against teams that are not competitive, and attendance is usually lower.  \n",
        "#Knowing what game has the earliest kick off time will allow the program to focus on that game to see if they bring in less fans.  \n",
        "#The results matched our expectation as the result showed us the earliest game in the table."
      ],
      "execution_count": 21,
      "outputs": [
        {
          "output_type": "stream",
          "text": [
            "('05', 1200, 'Penn State', 'Iowa State')\n"
          ],
          "name": "stdout"
        }
      ]
    },
    {
      "cell_type": "code",
      "metadata": {
        "id": "c4zbnwKrI2hT",
        "colab_type": "code",
        "outputId": "1c52e376-cb57-499b-c775-7d16ef5be902",
        "colab": {
          "base_uri": "https://localhost:8080/",
          "height": 34
        }
      },
      "source": [
        "#What are all the non-conference games?\n",
        "\n",
        "cursor.execute('''SELECT * FROM Opponent WHERE Conference != 'BIG TEN' ORDER BY Conference''')\n",
        "for row in cursor.fetchall():\n",
        "  print(row)\n",
        "\n",
        "#This question is important because it also allows Penn State Football to know which games they should focus on for attendance.  \n",
        "#Usually, conference games have a high attendance because they have a big impact on whether Penn State goes to the Big Ten Championship, \n",
        "#but non-conference games can be overlooked by fans as the opponent is either not a rival or is usually not a competitive team for the Penn State football team.  \n",
        "#By seeing non-conference games, the program can see which conference, other than the Big Ten, tends to bring in the larger crowds.  \n",
        "#The results are what we expected as there is only one non-conference game in our table and that was the only result that was printed."
      ],
      "execution_count": 22,
      "outputs": [
        {
          "output_type": "stream",
          "text": [
            "('03', 'University of Alabama', 'NCAA South Eastern')\n"
          ],
          "name": "stdout"
        }
      ]
    },
    {
      "cell_type": "code",
      "metadata": {
        "id": "RQCvKZIJI2l6",
        "colab_type": "code",
        "colab": {}
      },
      "source": [
        ""
      ],
      "execution_count": 0,
      "outputs": []
    }
  ]
}