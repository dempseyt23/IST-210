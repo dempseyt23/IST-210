{
  "nbformat": 4,
  "nbformat_minor": 0,
  "metadata": {
    "colab": {
      "name": "sra268firstassignment.ipynb",
      "provenance": [],
      "authorship_tag": "ABX9TyN55uhjNtNctN42zu2DGJV8",
      "include_colab_link": true
    },
    "kernelspec": {
      "name": "python3",
      "display_name": "Python 3"
    }
  },
  "cells": [
    {
      "cell_type": "markdown",
      "metadata": {
        "id": "view-in-github",
        "colab_type": "text"
      },
      "source": [
        "<a href=\"https://colab.research.google.com/github/dempseyt23/IST-210/blob/master/sra268firstassignment.ipynb\" target=\"_parent\"><img src=\"https://colab.research.google.com/assets/colab-badge.svg\" alt=\"Open In Colab\"/></a>"
      ]
    },
    {
      "cell_type": "markdown",
      "metadata": {
        "id": "ANZLnN-f_qXE",
        "colab_type": "text"
      },
      "source": [
        "#Title \n",
        "Snow fall a month before and after my birthday for three separate years"
      ]
    },
    {
      "cell_type": "markdown",
      "metadata": {
        "id": "dMVN825p_gz6",
        "colab_type": "text"
      },
      "source": [
        "#Description \n",
        "Analyze the amount of snow that fell a month before my birthday 11-24 and a month after. After this compare the data with other years including 2018 and 2019. Take all of this data and create a graph that allows visualization of the difference between the three years. Also show the difference between whether it was a month before or a month after."
      ]
    },
    {
      "cell_type": "markdown",
      "metadata": {
        "id": "b0-yOHez_zWI",
        "colab_type": "text"
      },
      "source": [
        "#Graph\n",
        "\n",
        "\n",
        "\n",
        "\n",
        "\n"
      ]
    },
    {
      "cell_type": "markdown",
      "metadata": {
        "id": "wk6Wbbpq9Pc9",
        "colab_type": "text"
      },
      "source": [
        "![Image of Graph](https://raw.githubusercontent.com/dempseyt23/SRA268-Spring2020/master/IMG_3417.jpg)\n"
      ]
    },
    {
      "cell_type": "markdown",
      "metadata": {
        "id": "Ggr837Zdkbq8",
        "colab_type": "text"
      },
      "source": [
        "#Conclusion \n",
        "In conclusion I have noticed that in comparing the three years 2019 did not have as much snow a month before and after my birthday where 2017 and 2018 did. The differences between 2017 and 2018 is that 2017 had more snow a month after where 2018 had more snow a month before. In addition to this 2018 had more snow in total when combining the month before and after. \n"
      ]
    }
  ]
}